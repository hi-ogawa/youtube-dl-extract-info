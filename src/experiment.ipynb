{
 "cells": [
  {
   "cell_type": "code",
   "execution_count": 1,
   "metadata": {},
   "outputs": [],
   "source": [
    "from youtube_dl import YoutubeDL"
   ]
  },
  {
   "cell_type": "code",
   "execution_count": 2,
   "metadata": {},
   "outputs": [
    {
     "name": "stdout",
     "output_type": "stream",
     "text": [
      "[youtube] Z5ldO3PJ5IA: Downloading webpage\n"
     ]
    },
    {
     "data": {
      "text/plain": [
       "'Stitched Up - Herbie Hancock feat. John Mayer'"
      ]
     },
     "execution_count": 2,
     "metadata": {},
     "output_type": "execute_result"
    }
   ],
   "source": [
    "#\n",
    "# extract by url\n",
    "#\n",
    "\n",
    "ydl = YoutubeDL()\n",
    "info = ydl.extract_info(\"https://www.youtube.com/watch?v=Z5ldO3PJ5IA\", download=False)\n",
    "info[\"title\"]"
   ]
  },
  {
   "cell_type": "code",
   "execution_count": 3,
   "metadata": {},
   "outputs": [
    {
     "name": "stdout",
     "output_type": "stream",
     "text": [
      "<youtube_dl.extractor.youtube.YoutubeIE object at 0x7f7f9683ab00>\n",
      "[youtube] Z5ldO3PJ5IA: Downloading webpage\n"
     ]
    },
    {
     "data": {
      "text/plain": [
       "'Stitched Up - Herbie Hancock feat. John Mayer'"
      ]
     },
     "execution_count": 3,
     "metadata": {},
     "output_type": "execute_result"
    }
   ],
   "source": [
    "#\n",
    "# directly call YoutubeIE (info extractor)\n",
    "#\n",
    "\n",
    "ie = ydl.get_info_extractor(\"Youtube\")\n",
    "print(ie)\n",
    "raw_info = ie._real_extract(\"Z5ldO3PJ5IA\")\n",
    "raw_info[\"title\"]"
   ]
  },
  {
   "cell_type": "code",
   "execution_count": 4,
   "metadata": {},
   "outputs": [],
   "source": [
    "import requests\n",
    "\n",
    "mock_urls = [\n",
    "    \"https://www.youtube.com/watch?v=Z5ldO3PJ5IA&bpctr=9999999999&has_verified=1\",\n",
    "    \"https://www.youtube.com/s/player/23010b46/player_ias.vflset/en_US/base.js\",\n",
    "]\n",
    "\n",
    "mock_data = {\n",
    "    url: requests.get(url, headers={ \"accept-language\": \"en\" }).text\n",
    "    for url in mock_urls\n",
    "}\n"
   ]
  },
  {
   "cell_type": "code",
   "execution_count": 6,
   "metadata": {},
   "outputs": [
    {
     "name": "stdout",
     "output_type": "stream",
     "text": [
      "[mock_download_webpage:HIT] args = ('https://www.youtube.com/watch?v=Z5ldO3PJ5IA&bpctr=9999999999&has_verified=1', 'Z5ldO3PJ5IA'), kwargs = {'fatal': False}\n",
      "[mock_download_webpage:HIT] args = ('https://www.youtube.com/s/player/23010b46/player_ias.vflset/en_US/base.js', 'Z5ldO3PJ5IA'), kwargs = {'note': 'Downloading player 23010b46', 'errnote': 'Download of https://www.youtube.com/s/player/23010b46/player_ias.vflset/en_US/base.js failed'}\n"
     ]
    },
    {
     "data": {
      "text/plain": [
       "'Stitched Up - Herbie Hancock feat. John Mayer'"
      ]
     },
     "execution_count": 6,
     "metadata": {},
     "output_type": "execute_result"
    }
   ],
   "source": [
    "from unittest.mock import patch\n",
    "\n",
    "ydl = YoutubeDL(params=dict(cachedir=False))\n",
    "ie = ydl.get_info_extractor(\"Youtube\")\n",
    "\n",
    "original_download_webpage = ie._download_webpage\n",
    "\n",
    "def mock_download_webpage(*args, **kwargs):\n",
    "    url = args[0]\n",
    "    found = mock_data.get(url)\n",
    "    print(f\"[mock_download_webpage:{'HIT' if found else 'MISS'}] {args = }, {kwargs = }\")\n",
    "    return found or original_download_webpage(*args, **kwargs)\n",
    "\n",
    "with patch.object(ie, \"_download_webpage\", side_effect=mock_download_webpage):\n",
    "    res = ie._real_extract(\"Z5ldO3PJ5IA\")\n",
    "\n",
    "res[\"title\"]"
   ]
  }
 ],
 "metadata": {
  "interpreter": {
   "hash": "dff8b431bd0f86d1df63074de987a8429de80283ad69f2d4e5312da0519dddcb"
  },
  "kernelspec": {
   "display_name": "Python 3.10.5 ('.venv': venv)",
   "language": "python",
   "name": "python3"
  },
  "language_info": {
   "codemirror_mode": {
    "name": "ipython",
    "version": 3
   },
   "file_extension": ".py",
   "mimetype": "text/x-python",
   "name": "python",
   "nbconvert_exporter": "python",
   "pygments_lexer": "ipython3",
   "version": "3.10.5"
  },
  "orig_nbformat": 4
 },
 "nbformat": 4,
 "nbformat_minor": 2
}
